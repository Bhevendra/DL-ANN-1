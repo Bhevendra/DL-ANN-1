{
 "cells": [
  {
   "cell_type": "code",
   "execution_count": 3,
   "id": "08ef98b9",
   "metadata": {},
   "outputs": [],
   "source": [
    "import numpy as np\n",
    "import pandas as pd\n",
    "import tensorflow as tf"
   ]
  },
  {
   "cell_type": "code",
   "execution_count": 2,
   "id": "0de478e4",
   "metadata": {},
   "outputs": [
    {
     "name": "stdout",
     "output_type": "stream",
     "text": [
      "Collecting tensorflow\n",
      "  Downloading tensorflow-2.10.0-cp39-cp39-win_amd64.whl (455.9 MB)\n",
      "Requirement already satisfied: protobuf<3.20,>=3.9.2 in c:\\users\\bsingh\\anaconda3\\lib\\site-packages (from tensorflow) (3.19.1)\n",
      "Collecting flatbuffers>=2.0\n",
      "  Downloading flatbuffers-2.0.7-py2.py3-none-any.whl (26 kB)\n",
      "Collecting gast<=0.4.0,>=0.2.1\n",
      "  Downloading gast-0.4.0-py3-none-any.whl (9.8 kB)\n",
      "Collecting astunparse>=1.6.0\n",
      "  Downloading astunparse-1.6.3-py2.py3-none-any.whl (12 kB)\n",
      "Requirement already satisfied: six>=1.12.0 in c:\\users\\bsingh\\anaconda3\\lib\\site-packages (from tensorflow) (1.16.0)\n",
      "Collecting termcolor>=1.1.0\n",
      "  Downloading termcolor-2.0.1-py3-none-any.whl (5.4 kB)\n",
      "Collecting keras<2.11,>=2.10.0\n",
      "  Downloading keras-2.10.0-py2.py3-none-any.whl (1.7 MB)\n",
      "Collecting libclang>=13.0.0\n",
      "  Downloading libclang-14.0.6-py2.py3-none-win_amd64.whl (14.2 MB)\n",
      "Collecting keras-preprocessing>=1.1.1\n",
      "  Downloading Keras_Preprocessing-1.1.2-py2.py3-none-any.whl (42 kB)\n",
      "Requirement already satisfied: h5py>=2.9.0 in c:\\users\\bsingh\\anaconda3\\lib\\site-packages (from tensorflow) (3.6.0)\n",
      "Collecting opt-einsum>=2.3.2\n",
      "  Downloading opt_einsum-3.3.0-py3-none-any.whl (65 kB)\n",
      "Collecting absl-py>=1.0.0\n",
      "  Downloading absl_py-1.2.0-py3-none-any.whl (123 kB)\n",
      "Requirement already satisfied: numpy>=1.20 in c:\\users\\bsingh\\anaconda3\\lib\\site-packages (from tensorflow) (1.21.5)\n",
      "Requirement already satisfied: typing-extensions>=3.6.6 in c:\\users\\bsingh\\anaconda3\\lib\\site-packages (from tensorflow) (4.1.1)\n",
      "Requirement already satisfied: wrapt>=1.11.0 in c:\\users\\bsingh\\anaconda3\\lib\\site-packages (from tensorflow) (1.12.1)\n",
      "Collecting tensorflow-estimator<2.11,>=2.10.0\n",
      "  Downloading tensorflow_estimator-2.10.0-py2.py3-none-any.whl (438 kB)\n",
      "Requirement already satisfied: packaging in c:\\users\\bsingh\\anaconda3\\lib\\site-packages (from tensorflow) (21.3)\n",
      "Collecting tensorboard<2.11,>=2.10\n",
      "  Downloading tensorboard-2.10.0-py3-none-any.whl (5.9 MB)\n",
      "Collecting google-pasta>=0.1.1\n",
      "  Downloading google_pasta-0.2.0-py3-none-any.whl (57 kB)\n",
      "Requirement already satisfied: grpcio<2.0,>=1.24.3 in c:\\users\\bsingh\\anaconda3\\lib\\site-packages (from tensorflow) (1.42.0)\n",
      "Requirement already satisfied: setuptools in c:\\users\\bsingh\\anaconda3\\lib\\site-packages (from tensorflow) (61.2.0)\n",
      "Collecting tensorflow-io-gcs-filesystem>=0.23.1\n",
      "  Downloading tensorflow_io_gcs_filesystem-0.27.0-cp39-cp39-win_amd64.whl (1.5 MB)\n",
      "Requirement already satisfied: wheel<1.0,>=0.23.0 in c:\\users\\bsingh\\anaconda3\\lib\\site-packages (from astunparse>=1.6.0->tensorflow) (0.37.1)\n",
      "Requirement already satisfied: requests<3,>=2.21.0 in c:\\users\\bsingh\\anaconda3\\lib\\site-packages (from tensorboard<2.11,>=2.10->tensorflow) (2.27.1)\n",
      "Requirement already satisfied: google-auth<3,>=1.6.3 in c:\\users\\bsingh\\anaconda3\\lib\\site-packages (from tensorboard<2.11,>=2.10->tensorflow) (1.33.0)\n",
      "Collecting tensorboard-data-server<0.7.0,>=0.6.0\n",
      "  Downloading tensorboard_data_server-0.6.1-py3-none-any.whl (2.4 kB)\n",
      "Collecting google-auth-oauthlib<0.5,>=0.4.1\n",
      "  Downloading google_auth_oauthlib-0.4.6-py2.py3-none-any.whl (18 kB)\n",
      "Requirement already satisfied: werkzeug>=1.0.1 in c:\\users\\bsingh\\anaconda3\\lib\\site-packages (from tensorboard<2.11,>=2.10->tensorflow) (2.0.3)\n",
      "Collecting tensorboard-plugin-wit>=1.6.0\n",
      "  Downloading tensorboard_plugin_wit-1.8.1-py3-none-any.whl (781 kB)\n",
      "Requirement already satisfied: markdown>=2.6.8 in c:\\users\\bsingh\\anaconda3\\lib\\site-packages (from tensorboard<2.11,>=2.10->tensorflow) (3.3.4)\n",
      "Requirement already satisfied: rsa<5,>=3.1.4 in c:\\users\\bsingh\\anaconda3\\lib\\site-packages (from google-auth<3,>=1.6.3->tensorboard<2.11,>=2.10->tensorflow) (4.7.2)\n",
      "Requirement already satisfied: pyasn1-modules>=0.2.1 in c:\\users\\bsingh\\anaconda3\\lib\\site-packages (from google-auth<3,>=1.6.3->tensorboard<2.11,>=2.10->tensorflow) (0.2.8)\n",
      "Requirement already satisfied: cachetools<5.0,>=2.0.0 in c:\\users\\bsingh\\anaconda3\\lib\\site-packages (from google-auth<3,>=1.6.3->tensorboard<2.11,>=2.10->tensorflow) (4.2.2)\n",
      "Collecting requests-oauthlib>=0.7.0\n",
      "  Downloading requests_oauthlib-1.3.1-py2.py3-none-any.whl (23 kB)\n",
      "Requirement already satisfied: pyasn1<0.5.0,>=0.4.6 in c:\\users\\bsingh\\anaconda3\\lib\\site-packages (from pyasn1-modules>=0.2.1->google-auth<3,>=1.6.3->tensorboard<2.11,>=2.10->tensorflow) (0.4.8)\n",
      "Requirement already satisfied: charset-normalizer~=2.0.0 in c:\\users\\bsingh\\anaconda3\\lib\\site-packages (from requests<3,>=2.21.0->tensorboard<2.11,>=2.10->tensorflow) (2.0.4)\n",
      "Requirement already satisfied: certifi>=2017.4.17 in c:\\users\\bsingh\\anaconda3\\lib\\site-packages (from requests<3,>=2.21.0->tensorboard<2.11,>=2.10->tensorflow) (2021.10.8)\n",
      "Requirement already satisfied: urllib3<1.27,>=1.21.1 in c:\\users\\bsingh\\anaconda3\\lib\\site-packages (from requests<3,>=2.21.0->tensorboard<2.11,>=2.10->tensorflow) (1.26.9)\n",
      "Requirement already satisfied: idna<4,>=2.5 in c:\\users\\bsingh\\anaconda3\\lib\\site-packages (from requests<3,>=2.21.0->tensorboard<2.11,>=2.10->tensorflow) (3.3)\n",
      "Collecting oauthlib>=3.0.0\n",
      "  Downloading oauthlib-3.2.1-py3-none-any.whl (151 kB)\n",
      "Requirement already satisfied: pyparsing!=3.0.5,>=2.0.2 in c:\\users\\bsingh\\anaconda3\\lib\\site-packages (from packaging->tensorflow) (3.0.4)\n",
      "Installing collected packages: oauthlib, requests-oauthlib, tensorboard-plugin-wit, tensorboard-data-server, google-auth-oauthlib, absl-py, termcolor, tensorflow-io-gcs-filesystem, tensorflow-estimator, tensorboard, opt-einsum, libclang, keras-preprocessing, keras, google-pasta, gast, flatbuffers, astunparse, tensorflow\n",
      "Note: you may need to restart the kernel to use updated packages.Successfully installed absl-py-1.2.0 astunparse-1.6.3 flatbuffers-2.0.7 gast-0.4.0 google-auth-oauthlib-0.4.6 google-pasta-0.2.0 keras-2.10.0 keras-preprocessing-1.1.2 libclang-14.0.6 oauthlib-3.2.1 opt-einsum-3.3.0 requests-oauthlib-1.3.1 tensorboard-2.10.0 tensorboard-data-server-0.6.1 tensorboard-plugin-wit-1.8.1 tensorflow-2.10.0 tensorflow-estimator-2.10.0 tensorflow-io-gcs-filesystem-0.27.0 termcolor-2.0.1\n",
      "\n"
     ]
    }
   ],
   "source": [
    "pip install tensorflow"
   ]
  },
  {
   "cell_type": "code",
   "execution_count": 4,
   "id": "a5d5d6d8",
   "metadata": {},
   "outputs": [
    {
     "data": {
      "text/plain": [
       "'2.10.0'"
      ]
     },
     "execution_count": 4,
     "metadata": {},
     "output_type": "execute_result"
    }
   ],
   "source": [
    "tf.__version__"
   ]
  },
  {
   "cell_type": "markdown",
   "id": "068ddba7",
   "metadata": {},
   "source": [
    "# Data Preprocessing\n"
   ]
  },
  {
   "cell_type": "code",
   "execution_count": 5,
   "id": "b0550a20",
   "metadata": {},
   "outputs": [],
   "source": [
    "dataset = pd.read_csv('Churn_Modelling.csv')"
   ]
  },
  {
   "cell_type": "code",
   "execution_count": 6,
   "id": "a14c2f0f",
   "metadata": {},
   "outputs": [
    {
     "data": {
      "text/html": [
       "<div>\n",
       "<style scoped>\n",
       "    .dataframe tbody tr th:only-of-type {\n",
       "        vertical-align: middle;\n",
       "    }\n",
       "\n",
       "    .dataframe tbody tr th {\n",
       "        vertical-align: top;\n",
       "    }\n",
       "\n",
       "    .dataframe thead th {\n",
       "        text-align: right;\n",
       "    }\n",
       "</style>\n",
       "<table border=\"1\" class=\"dataframe\">\n",
       "  <thead>\n",
       "    <tr style=\"text-align: right;\">\n",
       "      <th></th>\n",
       "      <th>RowNumber</th>\n",
       "      <th>CustomerId</th>\n",
       "      <th>Surname</th>\n",
       "      <th>CreditScore</th>\n",
       "      <th>Geography</th>\n",
       "      <th>Gender</th>\n",
       "      <th>Age</th>\n",
       "      <th>Tenure</th>\n",
       "      <th>Balance</th>\n",
       "      <th>NumOfProducts</th>\n",
       "      <th>HasCrCard</th>\n",
       "      <th>IsActiveMember</th>\n",
       "      <th>EstimatedSalary</th>\n",
       "      <th>Exited</th>\n",
       "    </tr>\n",
       "  </thead>\n",
       "  <tbody>\n",
       "    <tr>\n",
       "      <th>0</th>\n",
       "      <td>1</td>\n",
       "      <td>15634602</td>\n",
       "      <td>Hargrave</td>\n",
       "      <td>619</td>\n",
       "      <td>France</td>\n",
       "      <td>Female</td>\n",
       "      <td>42</td>\n",
       "      <td>2</td>\n",
       "      <td>0.00</td>\n",
       "      <td>1</td>\n",
       "      <td>1</td>\n",
       "      <td>1</td>\n",
       "      <td>101348.88</td>\n",
       "      <td>1</td>\n",
       "    </tr>\n",
       "    <tr>\n",
       "      <th>1</th>\n",
       "      <td>2</td>\n",
       "      <td>15647311</td>\n",
       "      <td>Hill</td>\n",
       "      <td>608</td>\n",
       "      <td>Spain</td>\n",
       "      <td>Female</td>\n",
       "      <td>41</td>\n",
       "      <td>1</td>\n",
       "      <td>83807.86</td>\n",
       "      <td>1</td>\n",
       "      <td>0</td>\n",
       "      <td>1</td>\n",
       "      <td>112542.58</td>\n",
       "      <td>0</td>\n",
       "    </tr>\n",
       "    <tr>\n",
       "      <th>2</th>\n",
       "      <td>3</td>\n",
       "      <td>15619304</td>\n",
       "      <td>Onio</td>\n",
       "      <td>502</td>\n",
       "      <td>France</td>\n",
       "      <td>Female</td>\n",
       "      <td>42</td>\n",
       "      <td>8</td>\n",
       "      <td>159660.80</td>\n",
       "      <td>3</td>\n",
       "      <td>1</td>\n",
       "      <td>0</td>\n",
       "      <td>113931.57</td>\n",
       "      <td>1</td>\n",
       "    </tr>\n",
       "    <tr>\n",
       "      <th>3</th>\n",
       "      <td>4</td>\n",
       "      <td>15701354</td>\n",
       "      <td>Boni</td>\n",
       "      <td>699</td>\n",
       "      <td>France</td>\n",
       "      <td>Female</td>\n",
       "      <td>39</td>\n",
       "      <td>1</td>\n",
       "      <td>0.00</td>\n",
       "      <td>2</td>\n",
       "      <td>0</td>\n",
       "      <td>0</td>\n",
       "      <td>93826.63</td>\n",
       "      <td>0</td>\n",
       "    </tr>\n",
       "    <tr>\n",
       "      <th>4</th>\n",
       "      <td>5</td>\n",
       "      <td>15737888</td>\n",
       "      <td>Mitchell</td>\n",
       "      <td>850</td>\n",
       "      <td>Spain</td>\n",
       "      <td>Female</td>\n",
       "      <td>43</td>\n",
       "      <td>2</td>\n",
       "      <td>125510.82</td>\n",
       "      <td>1</td>\n",
       "      <td>1</td>\n",
       "      <td>1</td>\n",
       "      <td>79084.10</td>\n",
       "      <td>0</td>\n",
       "    </tr>\n",
       "    <tr>\n",
       "      <th>...</th>\n",
       "      <td>...</td>\n",
       "      <td>...</td>\n",
       "      <td>...</td>\n",
       "      <td>...</td>\n",
       "      <td>...</td>\n",
       "      <td>...</td>\n",
       "      <td>...</td>\n",
       "      <td>...</td>\n",
       "      <td>...</td>\n",
       "      <td>...</td>\n",
       "      <td>...</td>\n",
       "      <td>...</td>\n",
       "      <td>...</td>\n",
       "      <td>...</td>\n",
       "    </tr>\n",
       "    <tr>\n",
       "      <th>9995</th>\n",
       "      <td>9996</td>\n",
       "      <td>15606229</td>\n",
       "      <td>Obijiaku</td>\n",
       "      <td>771</td>\n",
       "      <td>France</td>\n",
       "      <td>Male</td>\n",
       "      <td>39</td>\n",
       "      <td>5</td>\n",
       "      <td>0.00</td>\n",
       "      <td>2</td>\n",
       "      <td>1</td>\n",
       "      <td>0</td>\n",
       "      <td>96270.64</td>\n",
       "      <td>0</td>\n",
       "    </tr>\n",
       "    <tr>\n",
       "      <th>9996</th>\n",
       "      <td>9997</td>\n",
       "      <td>15569892</td>\n",
       "      <td>Johnstone</td>\n",
       "      <td>516</td>\n",
       "      <td>France</td>\n",
       "      <td>Male</td>\n",
       "      <td>35</td>\n",
       "      <td>10</td>\n",
       "      <td>57369.61</td>\n",
       "      <td>1</td>\n",
       "      <td>1</td>\n",
       "      <td>1</td>\n",
       "      <td>101699.77</td>\n",
       "      <td>0</td>\n",
       "    </tr>\n",
       "    <tr>\n",
       "      <th>9997</th>\n",
       "      <td>9998</td>\n",
       "      <td>15584532</td>\n",
       "      <td>Liu</td>\n",
       "      <td>709</td>\n",
       "      <td>France</td>\n",
       "      <td>Female</td>\n",
       "      <td>36</td>\n",
       "      <td>7</td>\n",
       "      <td>0.00</td>\n",
       "      <td>1</td>\n",
       "      <td>0</td>\n",
       "      <td>1</td>\n",
       "      <td>42085.58</td>\n",
       "      <td>1</td>\n",
       "    </tr>\n",
       "    <tr>\n",
       "      <th>9998</th>\n",
       "      <td>9999</td>\n",
       "      <td>15682355</td>\n",
       "      <td>Sabbatini</td>\n",
       "      <td>772</td>\n",
       "      <td>Germany</td>\n",
       "      <td>Male</td>\n",
       "      <td>42</td>\n",
       "      <td>3</td>\n",
       "      <td>75075.31</td>\n",
       "      <td>2</td>\n",
       "      <td>1</td>\n",
       "      <td>0</td>\n",
       "      <td>92888.52</td>\n",
       "      <td>1</td>\n",
       "    </tr>\n",
       "    <tr>\n",
       "      <th>9999</th>\n",
       "      <td>10000</td>\n",
       "      <td>15628319</td>\n",
       "      <td>Walker</td>\n",
       "      <td>792</td>\n",
       "      <td>France</td>\n",
       "      <td>Female</td>\n",
       "      <td>28</td>\n",
       "      <td>4</td>\n",
       "      <td>130142.79</td>\n",
       "      <td>1</td>\n",
       "      <td>1</td>\n",
       "      <td>0</td>\n",
       "      <td>38190.78</td>\n",
       "      <td>0</td>\n",
       "    </tr>\n",
       "  </tbody>\n",
       "</table>\n",
       "<p>10000 rows × 14 columns</p>\n",
       "</div>"
      ],
      "text/plain": [
       "      RowNumber  CustomerId    Surname  CreditScore Geography  Gender  Age  \\\n",
       "0             1    15634602   Hargrave          619    France  Female   42   \n",
       "1             2    15647311       Hill          608     Spain  Female   41   \n",
       "2             3    15619304       Onio          502    France  Female   42   \n",
       "3             4    15701354       Boni          699    France  Female   39   \n",
       "4             5    15737888   Mitchell          850     Spain  Female   43   \n",
       "...         ...         ...        ...          ...       ...     ...  ...   \n",
       "9995       9996    15606229   Obijiaku          771    France    Male   39   \n",
       "9996       9997    15569892  Johnstone          516    France    Male   35   \n",
       "9997       9998    15584532        Liu          709    France  Female   36   \n",
       "9998       9999    15682355  Sabbatini          772   Germany    Male   42   \n",
       "9999      10000    15628319     Walker          792    France  Female   28   \n",
       "\n",
       "      Tenure    Balance  NumOfProducts  HasCrCard  IsActiveMember  \\\n",
       "0          2       0.00              1          1               1   \n",
       "1          1   83807.86              1          0               1   \n",
       "2          8  159660.80              3          1               0   \n",
       "3          1       0.00              2          0               0   \n",
       "4          2  125510.82              1          1               1   \n",
       "...      ...        ...            ...        ...             ...   \n",
       "9995       5       0.00              2          1               0   \n",
       "9996      10   57369.61              1          1               1   \n",
       "9997       7       0.00              1          0               1   \n",
       "9998       3   75075.31              2          1               0   \n",
       "9999       4  130142.79              1          1               0   \n",
       "\n",
       "      EstimatedSalary  Exited  \n",
       "0           101348.88       1  \n",
       "1           112542.58       0  \n",
       "2           113931.57       1  \n",
       "3            93826.63       0  \n",
       "4            79084.10       0  \n",
       "...               ...     ...  \n",
       "9995         96270.64       0  \n",
       "9996        101699.77       0  \n",
       "9997         42085.58       1  \n",
       "9998         92888.52       1  \n",
       "9999         38190.78       0  \n",
       "\n",
       "[10000 rows x 14 columns]"
      ]
     },
     "execution_count": 6,
     "metadata": {},
     "output_type": "execute_result"
    }
   ],
   "source": [
    "dataset"
   ]
  },
  {
   "cell_type": "code",
   "execution_count": 11,
   "id": "69cd224f",
   "metadata": {},
   "outputs": [],
   "source": [
    "x = dataset.iloc[:,3:-1].values"
   ]
  },
  {
   "cell_type": "code",
   "execution_count": 16,
   "id": "19c3133b",
   "metadata": {},
   "outputs": [],
   "source": [
    "y = dataset.iloc[:,-1].values"
   ]
  },
  {
   "cell_type": "code",
   "execution_count": 14,
   "id": "5723778a",
   "metadata": {},
   "outputs": [
    {
     "name": "stdout",
     "output_type": "stream",
     "text": [
      "[[619 'France' 'Female' ... 1 1 101348.88]\n",
      " [608 'Spain' 'Female' ... 0 1 112542.58]\n",
      " [502 'France' 'Female' ... 1 0 113931.57]\n",
      " ...\n",
      " [709 'France' 'Female' ... 0 1 42085.58]\n",
      " [772 'Germany' 'Male' ... 1 0 92888.52]\n",
      " [792 'France' 'Female' ... 1 0 38190.78]]\n"
     ]
    }
   ],
   "source": [
    "print(x)"
   ]
  },
  {
   "cell_type": "code",
   "execution_count": 17,
   "id": "90e6f76f",
   "metadata": {},
   "outputs": [
    {
     "name": "stdout",
     "output_type": "stream",
     "text": [
      "[1 0 1 ... 1 1 0]\n"
     ]
    }
   ],
   "source": [
    "print(y)"
   ]
  },
  {
   "cell_type": "markdown",
   "id": "0e11bcc0",
   "metadata": {},
   "source": [
    "# Encoding Categorical Data"
   ]
  },
  {
   "cell_type": "code",
   "execution_count": 18,
   "id": "bb8f02bd",
   "metadata": {},
   "outputs": [],
   "source": [
    "from sklearn.preprocessing import LabelEncoder\n",
    "le = LabelEncoder()\n"
   ]
  },
  {
   "cell_type": "code",
   "execution_count": 20,
   "id": "9afccea5",
   "metadata": {},
   "outputs": [],
   "source": [
    "x[:,2] = le.fit_transform(x[:,2])"
   ]
  },
  {
   "cell_type": "code",
   "execution_count": 21,
   "id": "0c7839e7",
   "metadata": {},
   "outputs": [
    {
     "name": "stdout",
     "output_type": "stream",
     "text": [
      "[[619 'France' 0 ... 1 1 101348.88]\n",
      " [608 'Spain' 0 ... 0 1 112542.58]\n",
      " [502 'France' 0 ... 1 0 113931.57]\n",
      " ...\n",
      " [709 'France' 0 ... 0 1 42085.58]\n",
      " [772 'Germany' 1 ... 1 0 92888.52]\n",
      " [792 'France' 0 ... 1 0 38190.78]]\n"
     ]
    }
   ],
   "source": [
    "print(x)"
   ]
  },
  {
   "cell_type": "markdown",
   "id": "816a6aaa",
   "metadata": {},
   "source": [
    "## One Hot Encoding for \"Geography\" Column"
   ]
  },
  {
   "cell_type": "code",
   "execution_count": 22,
   "id": "c46f1d44",
   "metadata": {},
   "outputs": [],
   "source": [
    "from sklearn.compose import ColumnTransformer\n",
    "from sklearn.preprocessing import OneHotEncoder\n"
   ]
  },
  {
   "cell_type": "code",
   "execution_count": 23,
   "id": "8323f269",
   "metadata": {},
   "outputs": [],
   "source": [
    "ct = ColumnTransformer(transformers=[('encoder', OneHotEncoder(), [1])], remainder='passthrough')"
   ]
  },
  {
   "cell_type": "code",
   "execution_count": 24,
   "id": "045cc419",
   "metadata": {},
   "outputs": [],
   "source": [
    "x = np.array(ct.fit_transform(x))"
   ]
  },
  {
   "cell_type": "code",
   "execution_count": 25,
   "id": "b71324b8",
   "metadata": {},
   "outputs": [
    {
     "name": "stdout",
     "output_type": "stream",
     "text": [
      "[[1.0 0.0 0.0 ... 1 1 101348.88]\n",
      " [0.0 0.0 1.0 ... 0 1 112542.58]\n",
      " [1.0 0.0 0.0 ... 1 0 113931.57]\n",
      " ...\n",
      " [1.0 0.0 0.0 ... 0 1 42085.58]\n",
      " [0.0 1.0 0.0 ... 1 0 92888.52]\n",
      " [1.0 0.0 0.0 ... 1 0 38190.78]]\n"
     ]
    }
   ],
   "source": [
    "print(x)"
   ]
  },
  {
   "cell_type": "markdown",
   "id": "2e586742",
   "metadata": {},
   "source": [
    "# Spliting the dataset into training and test set"
   ]
  },
  {
   "cell_type": "code",
   "execution_count": 26,
   "id": "fdd143be",
   "metadata": {},
   "outputs": [],
   "source": [
    "from sklearn.model_selection import train_test_split"
   ]
  },
  {
   "cell_type": "code",
   "execution_count": 27,
   "id": "ef82f062",
   "metadata": {},
   "outputs": [],
   "source": [
    "x_train, x_test, y_train, y_test = train_test_split(x,y, test_size= 0.2, random_state=0)"
   ]
  },
  {
   "cell_type": "markdown",
   "id": "8b03ca8b",
   "metadata": {},
   "source": [
    "# Feature Scaling -  It is must in Deep Learning"
   ]
  },
  {
   "cell_type": "code",
   "execution_count": 28,
   "id": "c5becc48",
   "metadata": {},
   "outputs": [],
   "source": [
    "from sklearn.preprocessing import StandardScaler"
   ]
  },
  {
   "cell_type": "code",
   "execution_count": 29,
   "id": "1efa85a8",
   "metadata": {},
   "outputs": [],
   "source": [
    "sc = StandardScaler()\n"
   ]
  },
  {
   "cell_type": "code",
   "execution_count": 30,
   "id": "0a5b858d",
   "metadata": {},
   "outputs": [],
   "source": [
    "x_train = sc.fit_transform(x_train)\n",
    "x_test = sc.transform(x_test)"
   ]
  },
  {
   "cell_type": "markdown",
   "id": "2857bb2a",
   "metadata": {},
   "source": [
    "## Building the ANN"
   ]
  },
  {
   "cell_type": "code",
   "execution_count": 31,
   "id": "7d11651c",
   "metadata": {},
   "outputs": [],
   "source": [
    "ann = tf.keras.models.Sequential() \n",
    "#Initialize the ANN"
   ]
  },
  {
   "cell_type": "code",
   "execution_count": 32,
   "id": "16a5cfd7",
   "metadata": {},
   "outputs": [],
   "source": [
    "#Adding the input layer & First Hidden Layer\n",
    "\n",
    "ann.add(tf.keras.layers.Dense(units=6,activation='relu'))  # no. of neurons is 6, activation function is RECTIFIER Func\n",
    "\n",
    "# how do we decide the no. of neurons -there is no rule, we have to decide it, Based on experiment"
   ]
  },
  {
   "cell_type": "code",
   "execution_count": 34,
   "id": "68f58cda",
   "metadata": {},
   "outputs": [],
   "source": [
    "#Adding the Second hidden Layer\n",
    "\n",
    "ann.add(tf.keras.layers.Dense(units=6, activation='relu'))"
   ]
  },
  {
   "cell_type": "code",
   "execution_count": 35,
   "id": "c9eb0729",
   "metadata": {},
   "outputs": [],
   "source": [
    "#Adding the output Layer\n",
    "\n",
    "ann.add(tf.keras.layers.Dense(units=1, activation='sigmoid'))"
   ]
  },
  {
   "cell_type": "markdown",
   "id": "2246566a",
   "metadata": {},
   "source": [
    "## Training the ANN"
   ]
  },
  {
   "cell_type": "code",
   "execution_count": 37,
   "id": "eecd8847",
   "metadata": {},
   "outputs": [],
   "source": [
    "#Compiling the ANN\n",
    "ann.compile(optimizer='adam', loss= 'binary_crossentropy', metrics = ['accuracy'])"
   ]
  },
  {
   "cell_type": "code",
   "execution_count": 38,
   "id": "0e8fa8cf",
   "metadata": {},
   "outputs": [
    {
     "name": "stdout",
     "output_type": "stream",
     "text": [
      "Epoch 1/100\n",
      "250/250 [==============================] - 1s 693us/step - loss: 0.5111 - accuracy: 0.7960\n",
      "Epoch 2/100\n",
      "250/250 [==============================] - 0s 702us/step - loss: 0.4486 - accuracy: 0.7962\n",
      "Epoch 3/100\n",
      "250/250 [==============================] - 0s 728us/step - loss: 0.4279 - accuracy: 0.8019\n",
      "Epoch 4/100\n",
      "250/250 [==============================] - 0s 727us/step - loss: 0.4114 - accuracy: 0.8125\n",
      "Epoch 5/100\n",
      "250/250 [==============================] - 0s 667us/step - loss: 0.3969 - accuracy: 0.8279\n",
      "Epoch 6/100\n",
      "250/250 [==============================] - 0s 671us/step - loss: 0.3853 - accuracy: 0.8360\n",
      "Epoch 7/100\n",
      "250/250 [==============================] - 0s 699us/step - loss: 0.3776 - accuracy: 0.8395\n",
      "Epoch 8/100\n",
      "250/250 [==============================] - 0s 654us/step - loss: 0.3704 - accuracy: 0.8444\n",
      "Epoch 9/100\n",
      "250/250 [==============================] - 0s 659us/step - loss: 0.3642 - accuracy: 0.8453\n",
      "Epoch 10/100\n",
      "250/250 [==============================] - 0s 665us/step - loss: 0.3593 - accuracy: 0.8501\n",
      "Epoch 11/100\n",
      "250/250 [==============================] - 0s 666us/step - loss: 0.3558 - accuracy: 0.8528\n",
      "Epoch 12/100\n",
      "250/250 [==============================] - 0s 680us/step - loss: 0.3533 - accuracy: 0.8536\n",
      "Epoch 13/100\n",
      "250/250 [==============================] - 0s 707us/step - loss: 0.3513 - accuracy: 0.8558\n",
      "Epoch 14/100\n",
      "250/250 [==============================] - 0s 909us/step - loss: 0.3502 - accuracy: 0.8553\n",
      "Epoch 15/100\n",
      "250/250 [==============================] - 0s 682us/step - loss: 0.3489 - accuracy: 0.8559\n",
      "Epoch 16/100\n",
      "250/250 [==============================] - 0s 737us/step - loss: 0.3481 - accuracy: 0.8579\n",
      "Epoch 17/100\n",
      "250/250 [==============================] - 0s 689us/step - loss: 0.3477 - accuracy: 0.8594\n",
      "Epoch 18/100\n",
      "250/250 [==============================] - 0s 687us/step - loss: 0.3470 - accuracy: 0.8585\n",
      "Epoch 19/100\n",
      "250/250 [==============================] - 0s 725us/step - loss: 0.3463 - accuracy: 0.8581\n",
      "Epoch 20/100\n",
      "250/250 [==============================] - 0s 675us/step - loss: 0.3457 - accuracy: 0.8589\n",
      "Epoch 21/100\n",
      "250/250 [==============================] - 0s 742us/step - loss: 0.3454 - accuracy: 0.8594\n",
      "Epoch 22/100\n",
      "250/250 [==============================] - 0s 690us/step - loss: 0.3450 - accuracy: 0.8599\n",
      "Epoch 23/100\n",
      "250/250 [==============================] - 0s 807us/step - loss: 0.3451 - accuracy: 0.8599\n",
      "Epoch 24/100\n",
      "250/250 [==============================] - 0s 785us/step - loss: 0.3442 - accuracy: 0.8577\n",
      "Epoch 25/100\n",
      "250/250 [==============================] - 0s 944us/step - loss: 0.3441 - accuracy: 0.8577\n",
      "Epoch 26/100\n",
      "250/250 [==============================] - 0s 842us/step - loss: 0.3436 - accuracy: 0.8581\n",
      "Epoch 27/100\n",
      "250/250 [==============================] - 0s 890us/step - loss: 0.3430 - accuracy: 0.8599\n",
      "Epoch 28/100\n",
      "250/250 [==============================] - 0s 862us/step - loss: 0.3427 - accuracy: 0.8587\n",
      "Epoch 29/100\n",
      "250/250 [==============================] - 0s 824us/step - loss: 0.3428 - accuracy: 0.8600\n",
      "Epoch 30/100\n",
      "250/250 [==============================] - 0s 836us/step - loss: 0.3425 - accuracy: 0.8594\n",
      "Epoch 31/100\n",
      "250/250 [==============================] - 0s 2ms/step - loss: 0.3422 - accuracy: 0.8597\n",
      "Epoch 32/100\n",
      "250/250 [==============================] - 0s 1ms/step - loss: 0.3418 - accuracy: 0.8605\n",
      "Epoch 33/100\n",
      "250/250 [==============================] - 0s 1ms/step - loss: 0.3413 - accuracy: 0.8596\n",
      "Epoch 34/100\n",
      "250/250 [==============================] - 0s 817us/step - loss: 0.3415 - accuracy: 0.8622\n",
      "Epoch 35/100\n",
      "250/250 [==============================] - 0s 664us/step - loss: 0.3417 - accuracy: 0.8605\n",
      "Epoch 36/100\n",
      "250/250 [==============================] - 0s 676us/step - loss: 0.3407 - accuracy: 0.8614\n",
      "Epoch 37/100\n",
      "250/250 [==============================] - 0s 819us/step - loss: 0.3407 - accuracy: 0.8594\n",
      "Epoch 38/100\n",
      "250/250 [==============================] - 0s 1ms/step - loss: 0.3402 - accuracy: 0.8608\n",
      "Epoch 39/100\n",
      "250/250 [==============================] - 0s 679us/step - loss: 0.3403 - accuracy: 0.8619\n",
      "Epoch 40/100\n",
      "250/250 [==============================] - 0s 821us/step - loss: 0.3398 - accuracy: 0.8608\n",
      "Epoch 41/100\n",
      "250/250 [==============================] - 0s 931us/step - loss: 0.3397 - accuracy: 0.8618\n",
      "Epoch 42/100\n",
      "250/250 [==============================] - 0s 968us/step - loss: 0.3399 - accuracy: 0.8605\n",
      "Epoch 43/100\n",
      "250/250 [==============================] - 0s 1ms/step - loss: 0.3393 - accuracy: 0.8629\n",
      "Epoch 44/100\n",
      "250/250 [==============================] - 0s 1ms/step - loss: 0.3396 - accuracy: 0.8620\n",
      "Epoch 45/100\n",
      "250/250 [==============================] - 0s 939us/step - loss: 0.3397 - accuracy: 0.8614\n",
      "Epoch 46/100\n",
      "250/250 [==============================] - 0s 644us/step - loss: 0.3391 - accuracy: 0.8618\n",
      "Epoch 47/100\n",
      "250/250 [==============================] - 0s 661us/step - loss: 0.3389 - accuracy: 0.8610\n",
      "Epoch 48/100\n",
      "250/250 [==============================] - 0s 679us/step - loss: 0.3389 - accuracy: 0.8616\n",
      "Epoch 49/100\n",
      "250/250 [==============================] - 0s 625us/step - loss: 0.3390 - accuracy: 0.8616\n",
      "Epoch 50/100\n",
      "250/250 [==============================] - 0s 655us/step - loss: 0.3389 - accuracy: 0.8621\n",
      "Epoch 51/100\n",
      "250/250 [==============================] - 0s 669us/step - loss: 0.3383 - accuracy: 0.8640\n",
      "Epoch 52/100\n",
      "250/250 [==============================] - 0s 668us/step - loss: 0.3387 - accuracy: 0.8615\n",
      "Epoch 53/100\n",
      "250/250 [==============================] - 0s 656us/step - loss: 0.3382 - accuracy: 0.8631\n",
      "Epoch 54/100\n",
      "250/250 [==============================] - 0s 666us/step - loss: 0.3385 - accuracy: 0.8636\n",
      "Epoch 55/100\n",
      "250/250 [==============================] - 0s 672us/step - loss: 0.3377 - accuracy: 0.8624\n",
      "Epoch 56/100\n",
      "250/250 [==============================] - 0s 621us/step - loss: 0.3383 - accuracy: 0.8619\n",
      "Epoch 57/100\n",
      "250/250 [==============================] - 0s 646us/step - loss: 0.3381 - accuracy: 0.8631\n",
      "Epoch 58/100\n",
      "250/250 [==============================] - 0s 671us/step - loss: 0.3382 - accuracy: 0.8620\n",
      "Epoch 59/100\n",
      "250/250 [==============================] - 0s 675us/step - loss: 0.3380 - accuracy: 0.8619\n",
      "Epoch 60/100\n",
      "250/250 [==============================] - 0s 619us/step - loss: 0.3382 - accuracy: 0.8624\n",
      "Epoch 61/100\n",
      "250/250 [==============================] - 0s 620us/step - loss: 0.3376 - accuracy: 0.8611\n",
      "Epoch 62/100\n",
      "250/250 [==============================] - 0s 656us/step - loss: 0.3374 - accuracy: 0.8622\n",
      "Epoch 63/100\n",
      "250/250 [==============================] - 0s 648us/step - loss: 0.3378 - accuracy: 0.8627\n",
      "Epoch 64/100\n",
      "250/250 [==============================] - 0s 773us/step - loss: 0.3375 - accuracy: 0.8634\n",
      "Epoch 65/100\n",
      "250/250 [==============================] - 0s 693us/step - loss: 0.3375 - accuracy: 0.8639\n",
      "Epoch 66/100\n",
      "250/250 [==============================] - 0s 731us/step - loss: 0.3370 - accuracy: 0.8626\n",
      "Epoch 67/100\n",
      "250/250 [==============================] - 0s 798us/step - loss: 0.3372 - accuracy: 0.8622\n",
      "Epoch 68/100\n",
      "250/250 [==============================] - 0s 844us/step - loss: 0.3369 - accuracy: 0.8639\n",
      "Epoch 69/100\n",
      "250/250 [==============================] - 0s 944us/step - loss: 0.3369 - accuracy: 0.8619\n",
      "Epoch 70/100\n",
      "250/250 [==============================] - 0s 952us/step - loss: 0.3368 - accuracy: 0.8627\n",
      "Epoch 71/100\n",
      "250/250 [==============================] - 0s 975us/step - loss: 0.3361 - accuracy: 0.8626\n",
      "Epoch 72/100\n",
      "250/250 [==============================] - 0s 978us/step - loss: 0.3366 - accuracy: 0.8637\n",
      "Epoch 73/100\n",
      "250/250 [==============================] - 0s 925us/step - loss: 0.3363 - accuracy: 0.8629\n",
      "Epoch 74/100\n",
      "250/250 [==============================] - 0s 1ms/step - loss: 0.3363 - accuracy: 0.8633\n",
      "Epoch 75/100\n",
      "250/250 [==============================] - 0s 922us/step - loss: 0.3360 - accuracy: 0.8614\n",
      "Epoch 76/100\n",
      "250/250 [==============================] - 0s 941us/step - loss: 0.3360 - accuracy: 0.8631\n",
      "Epoch 77/100\n",
      "250/250 [==============================] - 0s 953us/step - loss: 0.3357 - accuracy: 0.8639\n",
      "Epoch 78/100\n",
      "250/250 [==============================] - 0s 980us/step - loss: 0.3352 - accuracy: 0.8606\n",
      "Epoch 79/100\n",
      "250/250 [==============================] - 0s 966us/step - loss: 0.3356 - accuracy: 0.8645\n"
     ]
    },
    {
     "name": "stdout",
     "output_type": "stream",
     "text": [
      "Epoch 80/100\n",
      "250/250 [==============================] - 0s 969us/step - loss: 0.3355 - accuracy: 0.8624\n",
      "Epoch 81/100\n",
      "250/250 [==============================] - 0s 1ms/step - loss: 0.3354 - accuracy: 0.8630\n",
      "Epoch 82/100\n",
      "250/250 [==============================] - 0s 1ms/step - loss: 0.3358 - accuracy: 0.8627\n",
      "Epoch 83/100\n",
      "250/250 [==============================] - 0s 1ms/step - loss: 0.3352 - accuracy: 0.8621\n",
      "Epoch 84/100\n",
      "250/250 [==============================] - 0s 987us/step - loss: 0.3352 - accuracy: 0.8635\n",
      "Epoch 85/100\n",
      "250/250 [==============================] - 0s 942us/step - loss: 0.3353 - accuracy: 0.8635\n",
      "Epoch 86/100\n",
      "250/250 [==============================] - 0s 893us/step - loss: 0.3348 - accuracy: 0.8629\n",
      "Epoch 87/100\n",
      "250/250 [==============================] - 0s 952us/step - loss: 0.3350 - accuracy: 0.8633\n",
      "Epoch 88/100\n",
      "250/250 [==============================] - 0s 2ms/step - loss: 0.3347 - accuracy: 0.8630\n",
      "Epoch 89/100\n",
      "250/250 [==============================] - 0s 2ms/step - loss: 0.3346 - accuracy: 0.8616\n",
      "Epoch 90/100\n",
      "250/250 [==============================] - 0s 2ms/step - loss: 0.3347 - accuracy: 0.8637\n",
      "Epoch 91/100\n",
      "250/250 [==============================] - 0s 2ms/step - loss: 0.3342 - accuracy: 0.8633\n",
      "Epoch 92/100\n",
      "250/250 [==============================] - 0s 1ms/step - loss: 0.3342 - accuracy: 0.8627\n",
      "Epoch 93/100\n",
      "250/250 [==============================] - 0s 1ms/step - loss: 0.3338 - accuracy: 0.8639\n",
      "Epoch 94/100\n",
      "250/250 [==============================] - 0s 1ms/step - loss: 0.3349 - accuracy: 0.8635\n",
      "Epoch 95/100\n",
      "250/250 [==============================] - 0s 961us/step - loss: 0.3347 - accuracy: 0.8635\n",
      "Epoch 96/100\n",
      "250/250 [==============================] - 0s 886us/step - loss: 0.3342 - accuracy: 0.8633\n",
      "Epoch 97/100\n",
      "250/250 [==============================] - 0s 854us/step - loss: 0.3342 - accuracy: 0.8637\n",
      "Epoch 98/100\n",
      "250/250 [==============================] - 0s 948us/step - loss: 0.3342 - accuracy: 0.8630\n",
      "Epoch 99/100\n",
      "250/250 [==============================] - 0s 924us/step - loss: 0.3339 - accuracy: 0.8619\n",
      "Epoch 100/100\n",
      "250/250 [==============================] - 0s 947us/step - loss: 0.3338 - accuracy: 0.8629\n"
     ]
    },
    {
     "data": {
      "text/plain": [
       "<keras.callbacks.History at 0x2111a7b4fa0>"
      ]
     },
     "execution_count": 38,
     "metadata": {},
     "output_type": "execute_result"
    }
   ],
   "source": [
    "#Training the ANN on the Training set\n",
    "ann.fit(x_train,y_train, batch_size= 32 , epochs = 100)"
   ]
  },
  {
   "cell_type": "code",
   "execution_count": 40,
   "id": "b1ee6abb",
   "metadata": {},
   "outputs": [
    {
     "name": "stdout",
     "output_type": "stream",
     "text": [
      "1/1 [==============================] - 0s 27ms/step\n",
      "[[False]]\n"
     ]
    }
   ],
   "source": [
    "print(ann.predict(sc.transform([[0,1,0,600,1,40,3,90000,2,1,1,50000]])) >0.5)"
   ]
  },
  {
   "cell_type": "markdown",
   "id": "2338ac88",
   "metadata": {},
   "source": [
    "## predicting the test set result"
   ]
  },
  {
   "cell_type": "code",
   "execution_count": 41,
   "id": "c7c8abba",
   "metadata": {},
   "outputs": [
    {
     "name": "stdout",
     "output_type": "stream",
     "text": [
      "63/63 [==============================] - 0s 554us/step\n",
      "[[0 0]\n",
      " [0 1]\n",
      " [0 0]\n",
      " ...\n",
      " [0 0]\n",
      " [0 0]\n",
      " [0 0]]\n"
     ]
    }
   ],
   "source": [
    "y_pred = ann.predict(x_test)\n",
    "y_pred = (y_pred>0.5)\n",
    "print(np.concatenate((y_pred.reshape(len(y_pred),1),y_test.reshape(len(y_test),1)),1))"
   ]
  },
  {
   "cell_type": "markdown",
   "id": "1d67f113",
   "metadata": {},
   "source": [
    "## Making Confusion Matrix"
   ]
  },
  {
   "cell_type": "code",
   "execution_count": 42,
   "id": "4d55170c",
   "metadata": {},
   "outputs": [
    {
     "name": "stdout",
     "output_type": "stream",
     "text": [
      "[[1513   82]\n",
      " [ 200  205]]\n"
     ]
    },
    {
     "data": {
      "text/plain": [
       "0.859"
      ]
     },
     "execution_count": 42,
     "metadata": {},
     "output_type": "execute_result"
    }
   ],
   "source": [
    "from sklearn.metrics import confusion_matrix, accuracy_score\n",
    "cm = confusion_matrix(y_test,y_pred)\n",
    "print(cm)\n",
    "accuracy_score(y_test, y_pred)"
   ]
  },
  {
   "cell_type": "code",
   "execution_count": null,
   "id": "c4f947ac",
   "metadata": {},
   "outputs": [],
   "source": []
  }
 ],
 "metadata": {
  "kernelspec": {
   "display_name": "Python 3 (ipykernel)",
   "language": "python",
   "name": "python3"
  },
  "language_info": {
   "codemirror_mode": {
    "name": "ipython",
    "version": 3
   },
   "file_extension": ".py",
   "mimetype": "text/x-python",
   "name": "python",
   "nbconvert_exporter": "python",
   "pygments_lexer": "ipython3",
   "version": "3.9.12"
  }
 },
 "nbformat": 4,
 "nbformat_minor": 5
}
